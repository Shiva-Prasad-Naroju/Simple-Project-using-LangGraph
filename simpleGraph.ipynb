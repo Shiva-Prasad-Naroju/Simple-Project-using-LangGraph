{
 "cells": [
  {
   "cell_type": "markdown",
   "id": "3d431b48",
   "metadata": {},
   "source": [
    "### Build a Simple Workflow or Graph using LangGraph\n",
    "\n",
    "### State:\n",
    "- First define the State of the Graph.\n",
    "\n",
    "- The state schema serves as the input schema for all Nodes and Edges in the graph.\n",
    "\n",
    "- Let's use the TypedDict class from python's typing module as our schema, which proovides type hints for the keys.\n"
   ]
  },
  {
   "cell_type": "code",
   "execution_count": 1,
   "id": "33d2860e",
   "metadata": {},
   "outputs": [],
   "source": [
    "from typing_extensions import TypedDict\n",
    "\n",
    "# Setting the State (its a shared memory)\n",
    "class State(TypedDict):\n",
    "    graph_info:str"
   ]
  },
  {
   "cell_type": "markdown",
   "id": "c2bb084e",
   "metadata": {},
   "source": [
    "#### Nodes are nothing but python functions:"
   ]
  },
  {
   "cell_type": "code",
   "execution_count": 2,
   "id": "202ab43d",
   "metadata": {},
   "outputs": [],
   "source": [
    "# Nodes\n",
    "def start_play(state:State):\n",
    "    print(\"Start play node has been called\")\n",
    "    return {\"graph_info\":state[\"graph_info\"] + \"I am planning to play\"}\n",
    "\n",
    "def cricket(state:State):\n",
    "    print(\"Cricket node has been called\")\n",
    "    return {\"graph_ino\":state[\"graph_info\"] + \"Cricket\"}\n",
    "\n",
    "def basketball(state:State):\n",
    "    print(\"Basketball node has been called\")\n",
    "    return {\"graph_info\":state[\"graph_info\"] + \"Basketball\"}"
   ]
  },
  {
   "cell_type": "code",
   "execution_count": 3,
   "id": "74672fd5",
   "metadata": {},
   "outputs": [],
   "source": [
    "import random\n",
    "from typing import Literal\n",
    "\n",
    "def random_play(state: State) -> Literal['cricket', 'basketball']:\n",
    "    if random.random()>0.5:\n",
    "        return \"cricket\"\n",
    "    else:\n",
    "        return \"basketball\"\n"
   ]
  },
  {
   "cell_type": "code",
   "execution_count": 4,
   "id": "2ddeb9fa",
   "metadata": {},
   "outputs": [
    {
     "name": "stdout",
     "output_type": "stream",
     "text": [
      "Requirement already satisfied: langgraph[all] in c:\\users\\dell\\downloads\\github\\next-word-lstm\\.conda\\lib\\site-packages (0.5.1)\n",
      "Requirement already satisfied: langchain-core>=0.1 in c:\\users\\dell\\downloads\\github\\next-word-lstm\\.conda\\lib\\site-packages (from langgraph[all]) (0.3.68)\n",
      "Requirement already satisfied: langgraph-checkpoint<3.0.0,>=2.1.0 in c:\\users\\dell\\downloads\\github\\next-word-lstm\\.conda\\lib\\site-packages (from langgraph[all]) (2.1.0)\n",
      "Requirement already satisfied: langgraph-prebuilt<0.6.0,>=0.5.0 in c:\\users\\dell\\downloads\\github\\next-word-lstm\\.conda\\lib\\site-packages (from langgraph[all]) (0.5.2)\n",
      "Requirement already satisfied: langgraph-sdk<0.2.0,>=0.1.42 in c:\\users\\dell\\downloads\\github\\next-word-lstm\\.conda\\lib\\site-packages (from langgraph[all]) (0.1.72)\n",
      "Requirement already satisfied: pydantic>=2.7.4 in c:\\users\\dell\\downloads\\github\\next-word-lstm\\.conda\\lib\\site-packages (from langgraph[all]) (2.11.7)\n",
      "Requirement already satisfied: xxhash>=3.5.0 in c:\\users\\dell\\downloads\\github\\next-word-lstm\\.conda\\lib\\site-packages (from langgraph[all]) (3.5.0)\n",
      "Requirement already satisfied: ormsgpack>=1.10.0 in c:\\users\\dell\\downloads\\github\\next-word-lstm\\.conda\\lib\\site-packages (from langgraph-checkpoint<3.0.0,>=2.1.0->langgraph[all]) (1.10.0)\n",
      "Requirement already satisfied: httpx>=0.25.2 in c:\\users\\dell\\downloads\\github\\next-word-lstm\\.conda\\lib\\site-packages (from langgraph-sdk<0.2.0,>=0.1.42->langgraph[all]) (0.28.1)\n",
      "Requirement already satisfied: orjson>=3.10.1 in c:\\users\\dell\\downloads\\github\\next-word-lstm\\.conda\\lib\\site-packages (from langgraph-sdk<0.2.0,>=0.1.42->langgraph[all]) (3.10.18)\n",
      "Requirement already satisfied: anyio in c:\\users\\dell\\downloads\\github\\next-word-lstm\\.conda\\lib\\site-packages (from httpx>=0.25.2->langgraph-sdk<0.2.0,>=0.1.42->langgraph[all]) (4.9.0)\n",
      "Requirement already satisfied: certifi in c:\\users\\dell\\downloads\\github\\next-word-lstm\\.conda\\lib\\site-packages (from httpx>=0.25.2->langgraph-sdk<0.2.0,>=0.1.42->langgraph[all]) (2025.7.9)\n",
      "Requirement already satisfied: httpcore==1.* in c:\\users\\dell\\downloads\\github\\next-word-lstm\\.conda\\lib\\site-packages (from httpx>=0.25.2->langgraph-sdk<0.2.0,>=0.1.42->langgraph[all]) (1.0.9)\n",
      "Requirement already satisfied: idna in c:\\users\\dell\\downloads\\github\\next-word-lstm\\.conda\\lib\\site-packages (from httpx>=0.25.2->langgraph-sdk<0.2.0,>=0.1.42->langgraph[all]) (3.10)\n",
      "Requirement already satisfied: h11>=0.16 in c:\\users\\dell\\downloads\\github\\next-word-lstm\\.conda\\lib\\site-packages (from httpcore==1.*->httpx>=0.25.2->langgraph-sdk<0.2.0,>=0.1.42->langgraph[all]) (0.16.0)\n",
      "Requirement already satisfied: langsmith>=0.3.45 in c:\\users\\dell\\downloads\\github\\next-word-lstm\\.conda\\lib\\site-packages (from langchain-core>=0.1->langgraph[all]) (0.4.4)\n",
      "Requirement already satisfied: tenacity!=8.4.0,<10.0.0,>=8.1.0 in c:\\users\\dell\\downloads\\github\\next-word-lstm\\.conda\\lib\\site-packages (from langchain-core>=0.1->langgraph[all]) (9.1.2)\n",
      "Requirement already satisfied: jsonpatch<2.0,>=1.33 in c:\\users\\dell\\downloads\\github\\next-word-lstm\\.conda\\lib\\site-packages (from langchain-core>=0.1->langgraph[all]) (1.33)\n",
      "Requirement already satisfied: PyYAML>=5.3 in c:\\users\\dell\\downloads\\github\\next-word-lstm\\.conda\\lib\\site-packages (from langchain-core>=0.1->langgraph[all]) (6.0.2)\n",
      "Requirement already satisfied: packaging<25,>=23.2 in c:\\users\\dell\\downloads\\github\\next-word-lstm\\.conda\\lib\\site-packages (from langchain-core>=0.1->langgraph[all]) (24.2)\n",
      "Requirement already satisfied: typing-extensions>=4.7 in c:\\users\\dell\\downloads\\github\\next-word-lstm\\.conda\\lib\\site-packages (from langchain-core>=0.1->langgraph[all]) (4.13.2)\n",
      "Requirement already satisfied: jsonpointer>=1.9 in c:\\users\\dell\\downloads\\github\\next-word-lstm\\.conda\\lib\\site-packages (from jsonpatch<2.0,>=1.33->langchain-core>=0.1->langgraph[all]) (3.0.0)\n",
      "Requirement already satisfied: requests<3,>=2 in c:\\users\\dell\\downloads\\github\\next-word-lstm\\.conda\\lib\\site-packages (from langsmith>=0.3.45->langchain-core>=0.1->langgraph[all]) (2.32.4)\n",
      "Requirement already satisfied: requests-toolbelt<2.0.0,>=1.0.0 in c:\\users\\dell\\downloads\\github\\next-word-lstm\\.conda\\lib\\site-packages (from langsmith>=0.3.45->langchain-core>=0.1->langgraph[all]) (1.0.0)\n",
      "Requirement already satisfied: zstandard<0.24.0,>=0.23.0 in c:\\users\\dell\\downloads\\github\\next-word-lstm\\.conda\\lib\\site-packages (from langsmith>=0.3.45->langchain-core>=0.1->langgraph[all]) (0.23.0)\n",
      "Requirement already satisfied: annotated-types>=0.6.0 in c:\\users\\dell\\downloads\\github\\next-word-lstm\\.conda\\lib\\site-packages (from pydantic>=2.7.4->langgraph[all]) (0.7.0)\n",
      "Requirement already satisfied: pydantic-core==2.33.2 in c:\\users\\dell\\downloads\\github\\next-word-lstm\\.conda\\lib\\site-packages (from pydantic>=2.7.4->langgraph[all]) (2.33.2)\n",
      "Requirement already satisfied: typing-inspection>=0.4.0 in c:\\users\\dell\\downloads\\github\\next-word-lstm\\.conda\\lib\\site-packages (from pydantic>=2.7.4->langgraph[all]) (0.4.1)\n",
      "Requirement already satisfied: charset_normalizer<4,>=2 in c:\\users\\dell\\downloads\\github\\next-word-lstm\\.conda\\lib\\site-packages (from requests<3,>=2->langsmith>=0.3.45->langchain-core>=0.1->langgraph[all]) (3.4.2)\n",
      "Requirement already satisfied: urllib3<3,>=1.21.1 in c:\\users\\dell\\downloads\\github\\next-word-lstm\\.conda\\lib\\site-packages (from requests<3,>=2->langsmith>=0.3.45->langchain-core>=0.1->langgraph[all]) (2.4.0)\n",
      "Requirement already satisfied: exceptiongroup>=1.0.2 in c:\\users\\dell\\downloads\\github\\next-word-lstm\\.conda\\lib\\site-packages (from anyio->httpx>=0.25.2->langgraph-sdk<0.2.0,>=0.1.42->langgraph[all]) (1.3.0)\n",
      "Requirement already satisfied: sniffio>=1.1 in c:\\users\\dell\\downloads\\github\\next-word-lstm\\.conda\\lib\\site-packages (from anyio->httpx>=0.25.2->langgraph-sdk<0.2.0,>=0.1.42->langgraph[all]) (1.3.1)\n"
     ]
    },
    {
     "name": "stderr",
     "output_type": "stream",
     "text": [
      "WARNING: langgraph 0.5.1 does not provide the extra 'all'\n"
     ]
    }
   ],
   "source": [
    "# !pip uninstall langgraph -y\n",
    "!pip install \"langgraph[all]\""
   ]
  },
  {
   "cell_type": "code",
   "execution_count": 5,
   "id": "06a33927",
   "metadata": {},
   "outputs": [
    {
     "name": "stdout",
     "output_type": "stream",
     "text": [
      "Requirement already satisfied: pip in c:\\users\\dell\\downloads\\github\\next-word-lstm\\.conda\\lib\\site-packages (25.1)\n",
      "Collecting pip\n",
      "  Using cached pip-25.1.1-py3-none-any.whl.metadata (3.6 kB)\n",
      "Requirement already satisfied: setuptools in c:\\users\\dell\\downloads\\github\\next-word-lstm\\.conda\\lib\\site-packages (78.1.1)\n",
      "Collecting setuptools\n",
      "  Using cached setuptools-80.9.0-py3-none-any.whl.metadata (6.6 kB)\n",
      "Using cached pip-25.1.1-py3-none-any.whl (1.8 MB)\n",
      "Using cached setuptools-80.9.0-py3-none-any.whl (1.2 MB)\n"
     ]
    },
    {
     "name": "stderr",
     "output_type": "stream",
     "text": [
      "ERROR: To modify pip, please run the following command:\n",
      "C:\\Users\\DELL\\Downloads\\GitHub\\Next-word-LSTM\\.conda\\python.exe -m pip install --upgrade pip setuptools\n"
     ]
    }
   ],
   "source": [
    "!pip install --upgrade pip setuptools\n"
   ]
  },
  {
   "cell_type": "code",
   "execution_count": 6,
   "id": "08f72d62",
   "metadata": {},
   "outputs": [
    {
     "name": "stdout",
     "output_type": "stream",
     "text": [
      "Found existing installation: langgraph 0.5.1\n",
      "Uninstalling langgraph-0.5.1:\n",
      "  Successfully uninstalled langgraph-0.5.1\n"
     ]
    }
   ],
   "source": [
    "!pip uninstall langgraph -y"
   ]
  },
  {
   "cell_type": "code",
   "execution_count": 7,
   "id": "0263c231",
   "metadata": {},
   "outputs": [
    {
     "name": "stdout",
     "output_type": "stream",
     "text": [
      "Collecting langgraph[all]\n",
      "  Using cached langgraph-0.5.1-py3-none-any.whl.metadata (6.7 kB)\n",
      "Requirement already satisfied: langchain-core>=0.1 in c:\\users\\dell\\downloads\\github\\next-word-lstm\\.conda\\lib\\site-packages (from langgraph[all]) (0.3.68)\n",
      "Requirement already satisfied: langgraph-checkpoint<3.0.0,>=2.1.0 in c:\\users\\dell\\downloads\\github\\next-word-lstm\\.conda\\lib\\site-packages (from langgraph[all]) (2.1.0)\n",
      "Requirement already satisfied: langgraph-prebuilt<0.6.0,>=0.5.0 in c:\\users\\dell\\downloads\\github\\next-word-lstm\\.conda\\lib\\site-packages (from langgraph[all]) (0.5.2)\n",
      "Requirement already satisfied: langgraph-sdk<0.2.0,>=0.1.42 in c:\\users\\dell\\downloads\\github\\next-word-lstm\\.conda\\lib\\site-packages (from langgraph[all]) (0.1.72)\n",
      "Requirement already satisfied: pydantic>=2.7.4 in c:\\users\\dell\\downloads\\github\\next-word-lstm\\.conda\\lib\\site-packages (from langgraph[all]) (2.11.7)\n",
      "Requirement already satisfied: xxhash>=3.5.0 in c:\\users\\dell\\downloads\\github\\next-word-lstm\\.conda\\lib\\site-packages (from langgraph[all]) (3.5.0)\n",
      "Requirement already satisfied: ormsgpack>=1.10.0 in c:\\users\\dell\\downloads\\github\\next-word-lstm\\.conda\\lib\\site-packages (from langgraph-checkpoint<3.0.0,>=2.1.0->langgraph[all]) (1.10.0)\n",
      "Requirement already satisfied: httpx>=0.25.2 in c:\\users\\dell\\downloads\\github\\next-word-lstm\\.conda\\lib\\site-packages (from langgraph-sdk<0.2.0,>=0.1.42->langgraph[all]) (0.28.1)\n",
      "Requirement already satisfied: orjson>=3.10.1 in c:\\users\\dell\\downloads\\github\\next-word-lstm\\.conda\\lib\\site-packages (from langgraph-sdk<0.2.0,>=0.1.42->langgraph[all]) (3.10.18)\n",
      "Requirement already satisfied: anyio in c:\\users\\dell\\downloads\\github\\next-word-lstm\\.conda\\lib\\site-packages (from httpx>=0.25.2->langgraph-sdk<0.2.0,>=0.1.42->langgraph[all]) (4.9.0)\n",
      "Requirement already satisfied: certifi in c:\\users\\dell\\downloads\\github\\next-word-lstm\\.conda\\lib\\site-packages (from httpx>=0.25.2->langgraph-sdk<0.2.0,>=0.1.42->langgraph[all]) (2025.7.9)\n",
      "Requirement already satisfied: httpcore==1.* in c:\\users\\dell\\downloads\\github\\next-word-lstm\\.conda\\lib\\site-packages (from httpx>=0.25.2->langgraph-sdk<0.2.0,>=0.1.42->langgraph[all]) (1.0.9)\n",
      "Requirement already satisfied: idna in c:\\users\\dell\\downloads\\github\\next-word-lstm\\.conda\\lib\\site-packages (from httpx>=0.25.2->langgraph-sdk<0.2.0,>=0.1.42->langgraph[all]) (3.10)\n",
      "Requirement already satisfied: h11>=0.16 in c:\\users\\dell\\downloads\\github\\next-word-lstm\\.conda\\lib\\site-packages (from httpcore==1.*->httpx>=0.25.2->langgraph-sdk<0.2.0,>=0.1.42->langgraph[all]) (0.16.0)\n",
      "Requirement already satisfied: langsmith>=0.3.45 in c:\\users\\dell\\downloads\\github\\next-word-lstm\\.conda\\lib\\site-packages (from langchain-core>=0.1->langgraph[all]) (0.4.4)\n",
      "Requirement already satisfied: tenacity!=8.4.0,<10.0.0,>=8.1.0 in c:\\users\\dell\\downloads\\github\\next-word-lstm\\.conda\\lib\\site-packages (from langchain-core>=0.1->langgraph[all]) (9.1.2)\n",
      "Requirement already satisfied: jsonpatch<2.0,>=1.33 in c:\\users\\dell\\downloads\\github\\next-word-lstm\\.conda\\lib\\site-packages (from langchain-core>=0.1->langgraph[all]) (1.33)\n",
      "Requirement already satisfied: PyYAML>=5.3 in c:\\users\\dell\\downloads\\github\\next-word-lstm\\.conda\\lib\\site-packages (from langchain-core>=0.1->langgraph[all]) (6.0.2)\n",
      "Requirement already satisfied: packaging<25,>=23.2 in c:\\users\\dell\\downloads\\github\\next-word-lstm\\.conda\\lib\\site-packages (from langchain-core>=0.1->langgraph[all]) (24.2)\n",
      "Requirement already satisfied: typing-extensions>=4.7 in c:\\users\\dell\\downloads\\github\\next-word-lstm\\.conda\\lib\\site-packages (from langchain-core>=0.1->langgraph[all]) (4.13.2)\n",
      "Requirement already satisfied: jsonpointer>=1.9 in c:\\users\\dell\\downloads\\github\\next-word-lstm\\.conda\\lib\\site-packages (from jsonpatch<2.0,>=1.33->langchain-core>=0.1->langgraph[all]) (3.0.0)\n",
      "Requirement already satisfied: requests<3,>=2 in c:\\users\\dell\\downloads\\github\\next-word-lstm\\.conda\\lib\\site-packages (from langsmith>=0.3.45->langchain-core>=0.1->langgraph[all]) (2.32.4)\n",
      "Requirement already satisfied: requests-toolbelt<2.0.0,>=1.0.0 in c:\\users\\dell\\downloads\\github\\next-word-lstm\\.conda\\lib\\site-packages (from langsmith>=0.3.45->langchain-core>=0.1->langgraph[all]) (1.0.0)\n",
      "Requirement already satisfied: zstandard<0.24.0,>=0.23.0 in c:\\users\\dell\\downloads\\github\\next-word-lstm\\.conda\\lib\\site-packages (from langsmith>=0.3.45->langchain-core>=0.1->langgraph[all]) (0.23.0)\n",
      "Requirement already satisfied: annotated-types>=0.6.0 in c:\\users\\dell\\downloads\\github\\next-word-lstm\\.conda\\lib\\site-packages (from pydantic>=2.7.4->langgraph[all]) (0.7.0)\n",
      "Requirement already satisfied: pydantic-core==2.33.2 in c:\\users\\dell\\downloads\\github\\next-word-lstm\\.conda\\lib\\site-packages (from pydantic>=2.7.4->langgraph[all]) (2.33.2)\n",
      "Requirement already satisfied: typing-inspection>=0.4.0 in c:\\users\\dell\\downloads\\github\\next-word-lstm\\.conda\\lib\\site-packages (from pydantic>=2.7.4->langgraph[all]) (0.4.1)\n",
      "Requirement already satisfied: charset_normalizer<4,>=2 in c:\\users\\dell\\downloads\\github\\next-word-lstm\\.conda\\lib\\site-packages (from requests<3,>=2->langsmith>=0.3.45->langchain-core>=0.1->langgraph[all]) (3.4.2)\n",
      "Requirement already satisfied: urllib3<3,>=1.21.1 in c:\\users\\dell\\downloads\\github\\next-word-lstm\\.conda\\lib\\site-packages (from requests<3,>=2->langsmith>=0.3.45->langchain-core>=0.1->langgraph[all]) (2.4.0)\n",
      "Requirement already satisfied: exceptiongroup>=1.0.2 in c:\\users\\dell\\downloads\\github\\next-word-lstm\\.conda\\lib\\site-packages (from anyio->httpx>=0.25.2->langgraph-sdk<0.2.0,>=0.1.42->langgraph[all]) (1.3.0)\n",
      "Requirement already satisfied: sniffio>=1.1 in c:\\users\\dell\\downloads\\github\\next-word-lstm\\.conda\\lib\\site-packages (from anyio->httpx>=0.25.2->langgraph-sdk<0.2.0,>=0.1.42->langgraph[all]) (1.3.1)\n",
      "Using cached langgraph-0.5.1-py3-none-any.whl (143 kB)\n",
      "Installing collected packages: langgraph\n",
      "Successfully installed langgraph-0.5.1\n"
     ]
    },
    {
     "name": "stderr",
     "output_type": "stream",
     "text": [
      "WARNING: langgraph 0.5.1 does not provide the extra 'all'\n"
     ]
    }
   ],
   "source": [
    "!pip install \"langgraph[all]\""
   ]
  },
  {
   "cell_type": "code",
   "execution_count": 12,
   "id": "26eb0553",
   "metadata": {},
   "outputs": [
    {
     "data": {
      "image/png": "[encoded data removed]",
      "text/plain": [
       "<IPython.core.display.Image object>"
      ]
     },
     "metadata": {},
     "output_type": "display_data"
    }
   ],
   "source": [
    "from IPython.display import Image, display\n",
    "from langgraph.graph import StateGraph, START, END\n",
    "\n",
    "# Build the Graph\n",
    "graph = StateGraph(State)\n",
    "\n",
    "# Add all the nodes\n",
    "graph.add_node(\"start_play\", start_play)\n",
    "graph.add_node(\"cricket\", cricket)\n",
    "graph.add_node(\"basketball\", basketball)\n",
    "\n",
    "# Schedule the flow of the graph\n",
    "graph.add_edge(START, \"start_play\")\n",
    "graph.add_conditional_edges(\"start_play\",random_play)\n",
    "graph.add_edge(\"cricket\", END)\n",
    "graph.add_edge(\"basketball\", END)\n",
    "\n",
    "# Compile the graph:\n",
    "graph_builder = graph.compile()\n",
    "\n",
    "# View\n",
    "display(Image(graph_builder.get_graph().draw_mermaid_png()))"
   ]
  },
  {
   "cell_type": "code",
   "execution_count": 15,
   "metadata": {},
   "outputs": [
    {
     "name": "stdout",
     "output_type": "stream",
     "text": [
      "Start play node has been called\n",
      "Cricket node has been called\n"
     ]
    },
    {
     "data": {
      "text/plain": [
       "{'graph_info': 'I am Shiva Prasad Naroju, I am planning to play'}"
      ]
     },
     "execution_count": 15,
     "metadata": {},
     "output_type": "execute_result"
    }
   ],
   "source": [
    "graph_builder.invoke({\"graph_info\":\"I am Shiva Prasad Naroju, \"})"
   ]
  },
  {
   "cell_type": "code",
   "execution_count": null,
   "id": "77614046",
   "metadata": {},
   "outputs": [],
   "source": []
  }
 ],
 "metadata": {
  "kernelspec": {
   "display_name": ".conda",
   "language": "python",
   "name": "python3"
  },
  "language_info": {
   "codemirror_mode": {
    "name": "ipython",
    "version": 3
   },
   "file_extension": ".py",
   "mimetype": "text/x-python",
   "name": "python",
   "nbconvert_exporter": "python",
   "pygments_lexer": "ipython3",
   "version": "3.10.16"
  }
 },
 "nbformat": 4,
 "nbformat_minor": 5
}
